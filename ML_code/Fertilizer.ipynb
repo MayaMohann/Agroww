{
 "cells": [
  {
   "cell_type": "code",
   "execution_count": 3,
   "id": "869abc5a-d8f6-4280-8b72-2d7ff6f2c383",
   "metadata": {},
   "outputs": [],
   "source": [
    "import numpy as np # for complx mathematical operation\n",
    "import pandas as pd  # for data frame manipulation\n",
    "import matplotlib.pyplot as plt # for creating data visulization\n",
    "import seaborn as sns #for creating data visulization\n",
    "from ipywidgets import interact # for interactive analysis & also helps in interacting with python\n",
    "#for splitting data\n",
    "from sklearn.model_selection import train_test_split\n",
    "import pickle\n",
    "\n",
    "import warnings\n",
    "warnings.filterwarnings('ignore')"
   ]
  },
  {
   "cell_type": "code",
   "execution_count": 4,
   "id": "94b906b2-fbdf-47f9-ac83-a41b35e06632",
   "metadata": {},
   "outputs": [],
   "source": [
    "data = pd.read_csv(\"D:/PROJECTS/AGROWW/dataset/fertilizer.csv\")"
   ]
  },
  {
   "cell_type": "code",
   "execution_count": 5,
   "id": "f59ec83a-a9d2-4051-b9dd-a34dcb280aea",
   "metadata": {},
   "outputs": [
    {
     "data": {
      "text/plain": [
       "(205, 9)"
      ]
     },
     "execution_count": 5,
     "metadata": {},
     "output_type": "execute_result"
    }
   ],
   "source": [
    "data.shape"
   ]
  },
  {
   "cell_type": "code",
   "execution_count": 6,
   "id": "f295d779-d7e6-469e-9f00-566152a17fef",
   "metadata": {},
   "outputs": [
    {
     "data": {
      "text/html": [
       "<div>\n",
       "<style scoped>\n",
       "    .dataframe tbody tr th:only-of-type {\n",
       "        vertical-align: middle;\n",
       "    }\n",
       "\n",
       "    .dataframe tbody tr th {\n",
       "        vertical-align: top;\n",
       "    }\n",
       "\n",
       "    .dataframe thead th {\n",
       "        text-align: right;\n",
       "    }\n",
       "</style>\n",
       "<table border=\"1\" class=\"dataframe\">\n",
       "  <thead>\n",
       "    <tr style=\"text-align: right;\">\n",
       "      <th></th>\n",
       "      <th>Temparature</th>\n",
       "      <th>Humidity</th>\n",
       "      <th>Moisture</th>\n",
       "      <th>Soil Type</th>\n",
       "      <th>Crop Type</th>\n",
       "      <th>Nitrogen</th>\n",
       "      <th>Potassium</th>\n",
       "      <th>Phosphorous</th>\n",
       "      <th>Fertilizer Name</th>\n",
       "    </tr>\n",
       "  </thead>\n",
       "  <tbody>\n",
       "    <tr>\n",
       "      <th>0</th>\n",
       "      <td>26</td>\n",
       "      <td>52</td>\n",
       "      <td>38</td>\n",
       "      <td>Sandy</td>\n",
       "      <td>Maize</td>\n",
       "      <td>37</td>\n",
       "      <td>0</td>\n",
       "      <td>0</td>\n",
       "      <td>Urea</td>\n",
       "    </tr>\n",
       "    <tr>\n",
       "      <th>1</th>\n",
       "      <td>29</td>\n",
       "      <td>52</td>\n",
       "      <td>45</td>\n",
       "      <td>Loamy</td>\n",
       "      <td>Sugarcane</td>\n",
       "      <td>12</td>\n",
       "      <td>0</td>\n",
       "      <td>36</td>\n",
       "      <td>DAP</td>\n",
       "    </tr>\n",
       "    <tr>\n",
       "      <th>2</th>\n",
       "      <td>34</td>\n",
       "      <td>65</td>\n",
       "      <td>62</td>\n",
       "      <td>Black</td>\n",
       "      <td>Cotton</td>\n",
       "      <td>7</td>\n",
       "      <td>9</td>\n",
       "      <td>30</td>\n",
       "      <td>14-35-14</td>\n",
       "    </tr>\n",
       "    <tr>\n",
       "      <th>3</th>\n",
       "      <td>32</td>\n",
       "      <td>62</td>\n",
       "      <td>34</td>\n",
       "      <td>Red</td>\n",
       "      <td>Tobacco</td>\n",
       "      <td>22</td>\n",
       "      <td>0</td>\n",
       "      <td>20</td>\n",
       "      <td>28-28</td>\n",
       "    </tr>\n",
       "    <tr>\n",
       "      <th>4</th>\n",
       "      <td>28</td>\n",
       "      <td>54</td>\n",
       "      <td>46</td>\n",
       "      <td>Clayey</td>\n",
       "      <td>Paddy</td>\n",
       "      <td>35</td>\n",
       "      <td>0</td>\n",
       "      <td>0</td>\n",
       "      <td>Urea</td>\n",
       "    </tr>\n",
       "  </tbody>\n",
       "</table>\n",
       "</div>"
      ],
      "text/plain": [
       "   Temparature  Humidity   Moisture Soil Type  Crop Type  Nitrogen  Potassium  \\\n",
       "0           26         52        38     Sandy      Maize        37          0   \n",
       "1           29         52        45     Loamy  Sugarcane        12          0   \n",
       "2           34         65        62     Black     Cotton         7          9   \n",
       "3           32         62        34       Red    Tobacco        22          0   \n",
       "4           28         54        46    Clayey      Paddy        35          0   \n",
       "\n",
       "   Phosphorous Fertilizer Name  \n",
       "0            0            Urea  \n",
       "1           36             DAP  \n",
       "2           30        14-35-14  \n",
       "3           20           28-28  \n",
       "4            0            Urea  "
      ]
     },
     "execution_count": 6,
     "metadata": {},
     "output_type": "execute_result"
    }
   ],
   "source": [
    "data.head()"
   ]
  },
  {
   "cell_type": "code",
   "execution_count": 7,
   "id": "bc27fe9d-4d38-4e05-94a8-c2cabb1392b1",
   "metadata": {},
   "outputs": [
    {
     "name": "stdout",
     "output_type": "stream",
     "text": [
      "<class 'pandas.core.frame.DataFrame'>\n",
      "RangeIndex: 205 entries, 0 to 204\n",
      "Data columns (total 9 columns):\n",
      " #   Column           Non-Null Count  Dtype \n",
      "---  ------           --------------  ----- \n",
      " 0   Temparature      205 non-null    int64 \n",
      " 1   Humidity         205 non-null    int64 \n",
      " 2   Moisture         205 non-null    int64 \n",
      " 3   Soil Type        205 non-null    object\n",
      " 4   Crop Type        205 non-null    object\n",
      " 5   Nitrogen         205 non-null    int64 \n",
      " 6   Potassium        205 non-null    int64 \n",
      " 7   Phosphorous      205 non-null    int64 \n",
      " 8   Fertilizer Name  205 non-null    object\n",
      "dtypes: int64(6), object(3)\n",
      "memory usage: 14.5+ KB\n"
     ]
    }
   ],
   "source": [
    "data.info()"
   ]
  },
  {
   "cell_type": "code",
   "execution_count": 8,
   "id": "77035703-5e23-405b-8c96-ad839d1a5a81",
   "metadata": {},
   "outputs": [
    {
     "data": {
      "text/html": [
       "<div>\n",
       "<style scoped>\n",
       "    .dataframe tbody tr th:only-of-type {\n",
       "        vertical-align: middle;\n",
       "    }\n",
       "\n",
       "    .dataframe tbody tr th {\n",
       "        vertical-align: top;\n",
       "    }\n",
       "\n",
       "    .dataframe thead th {\n",
       "        text-align: right;\n",
       "    }\n",
       "</style>\n",
       "<table border=\"1\" class=\"dataframe\">\n",
       "  <thead>\n",
       "    <tr style=\"text-align: right;\">\n",
       "      <th></th>\n",
       "      <th>Temparature</th>\n",
       "      <th>Humidity</th>\n",
       "      <th>Moisture</th>\n",
       "      <th>Nitrogen</th>\n",
       "      <th>Potassium</th>\n",
       "      <th>Phosphorous</th>\n",
       "    </tr>\n",
       "  </thead>\n",
       "  <tbody>\n",
       "    <tr>\n",
       "      <th>count</th>\n",
       "      <td>205.000000</td>\n",
       "      <td>205.000000</td>\n",
       "      <td>205.000000</td>\n",
       "      <td>205.000000</td>\n",
       "      <td>205.000000</td>\n",
       "      <td>205.000000</td>\n",
       "    </tr>\n",
       "    <tr>\n",
       "      <th>mean</th>\n",
       "      <td>30.204878</td>\n",
       "      <td>58.990244</td>\n",
       "      <td>43.590244</td>\n",
       "      <td>18.814634</td>\n",
       "      <td>3.219512</td>\n",
       "      <td>18.634146</td>\n",
       "    </tr>\n",
       "    <tr>\n",
       "      <th>std</th>\n",
       "      <td>3.592882</td>\n",
       "      <td>5.973791</td>\n",
       "      <td>11.236665</td>\n",
       "      <td>11.273115</td>\n",
       "      <td>5.571778</td>\n",
       "      <td>13.494654</td>\n",
       "    </tr>\n",
       "    <tr>\n",
       "      <th>min</th>\n",
       "      <td>25.000000</td>\n",
       "      <td>50.000000</td>\n",
       "      <td>25.000000</td>\n",
       "      <td>4.000000</td>\n",
       "      <td>0.000000</td>\n",
       "      <td>0.000000</td>\n",
       "    </tr>\n",
       "    <tr>\n",
       "      <th>25%</th>\n",
       "      <td>27.000000</td>\n",
       "      <td>54.000000</td>\n",
       "      <td>34.000000</td>\n",
       "      <td>10.000000</td>\n",
       "      <td>0.000000</td>\n",
       "      <td>9.000000</td>\n",
       "    </tr>\n",
       "    <tr>\n",
       "      <th>50%</th>\n",
       "      <td>30.000000</td>\n",
       "      <td>60.000000</td>\n",
       "      <td>42.000000</td>\n",
       "      <td>14.000000</td>\n",
       "      <td>0.000000</td>\n",
       "      <td>18.000000</td>\n",
       "    </tr>\n",
       "    <tr>\n",
       "      <th>75%</th>\n",
       "      <td>33.000000</td>\n",
       "      <td>64.000000</td>\n",
       "      <td>51.000000</td>\n",
       "      <td>24.000000</td>\n",
       "      <td>7.000000</td>\n",
       "      <td>30.000000</td>\n",
       "    </tr>\n",
       "    <tr>\n",
       "      <th>max</th>\n",
       "      <td>38.000000</td>\n",
       "      <td>72.000000</td>\n",
       "      <td>65.000000</td>\n",
       "      <td>42.000000</td>\n",
       "      <td>19.000000</td>\n",
       "      <td>42.000000</td>\n",
       "    </tr>\n",
       "  </tbody>\n",
       "</table>\n",
       "</div>"
      ],
      "text/plain": [
       "       Temparature   Humidity     Moisture    Nitrogen   Potassium  \\\n",
       "count   205.000000  205.000000  205.000000  205.000000  205.000000   \n",
       "mean     30.204878   58.990244   43.590244   18.814634    3.219512   \n",
       "std       3.592882    5.973791   11.236665   11.273115    5.571778   \n",
       "min      25.000000   50.000000   25.000000    4.000000    0.000000   \n",
       "25%      27.000000   54.000000   34.000000   10.000000    0.000000   \n",
       "50%      30.000000   60.000000   42.000000   14.000000    0.000000   \n",
       "75%      33.000000   64.000000   51.000000   24.000000    7.000000   \n",
       "max      38.000000   72.000000   65.000000   42.000000   19.000000   \n",
       "\n",
       "       Phosphorous  \n",
       "count   205.000000  \n",
       "mean     18.634146  \n",
       "std      13.494654  \n",
       "min       0.000000  \n",
       "25%       9.000000  \n",
       "50%      18.000000  \n",
       "75%      30.000000  \n",
       "max      42.000000  "
      ]
     },
     "execution_count": 8,
     "metadata": {},
     "output_type": "execute_result"
    }
   ],
   "source": [
    "data.describe()"
   ]
  },
  {
   "cell_type": "code",
   "execution_count": 9,
   "id": "ef4788b6-f9cd-4954-9c1d-0fc9373d8c2d",
   "metadata": {},
   "outputs": [
    {
     "data": {
      "text/plain": [
       "Temparature        0\n",
       "Humidity           0\n",
       "Moisture           0\n",
       "Soil Type          0\n",
       "Crop Type          0\n",
       "Nitrogen           0\n",
       "Potassium          0\n",
       "Phosphorous        0\n",
       "Fertilizer Name    0\n",
       "dtype: int64"
      ]
     },
     "execution_count": 9,
     "metadata": {},
     "output_type": "execute_result"
    }
   ],
   "source": [
    "data.isnull().sum()"
   ]
  },
  {
   "cell_type": "code",
   "execution_count": 10,
   "id": "edb502c7-fa2c-46f1-bdd8-f2b14cd15057",
   "metadata": {},
   "outputs": [
    {
     "data": {
      "text/plain": [
       "(205, 9)"
      ]
     },
     "execution_count": 10,
     "metadata": {},
     "output_type": "execute_result"
    }
   ],
   "source": [
    "data.shape"
   ]
  },
  {
   "cell_type": "code",
   "execution_count": 11,
   "id": "4e689aef-c9b2-48da-aa49-0c2d2d4f530e",
   "metadata": {},
   "outputs": [
    {
     "data": {
      "text/plain": [
       "Index(['Temparature', 'Humidity ', 'Moisture', 'Soil Type', 'Crop Type',\n",
       "       'Nitrogen', 'Potassium', 'Phosphorous', 'Fertilizer Name'],\n",
       "      dtype='object')"
      ]
     },
     "execution_count": 11,
     "metadata": {},
     "output_type": "execute_result"
    }
   ],
   "source": [
    "data.columns"
   ]
  },
  {
   "cell_type": "code",
   "execution_count": 12,
   "id": "f4af8dc7-23f9-45be-a5b5-1a45be52746c",
   "metadata": {},
   "outputs": [
    {
     "data": {
      "text/plain": [
       "Temparature        False\n",
       "Humidity           False\n",
       "Moisture           False\n",
       "Soil Type          False\n",
       "Crop Type          False\n",
       "Nitrogen           False\n",
       "Potassium          False\n",
       "Phosphorous        False\n",
       "Fertilizer Name    False\n",
       "dtype: bool"
      ]
     },
     "execution_count": 12,
     "metadata": {},
     "output_type": "execute_result"
    }
   ],
   "source": [
    "data.isnull().any()"
   ]
  },
  {
   "cell_type": "code",
   "execution_count": 13,
   "id": "fe5c9a15-d176-4b57-b016-cee3235f88d8",
   "metadata": {},
   "outputs": [
    {
     "name": "stdout",
     "output_type": "stream",
     "text": [
      "Number of Fertilizers:  7\n",
      "List of Fertilizers:  ['Urea' 'DAP' '14-35-14' '28-28' '17-17-17' '20-20' '10-26-26']\n"
     ]
    }
   ],
   "source": [
    "#target Variable - Type of Fertilizer\n",
    "fertilizers = data['Fertilizer Name'].unique()\n",
    "print(\"Number of Fertilizers: \",len(fertilizers))\n",
    "print(\"List of Fertilizers: \",fertilizers)"
   ]
  },
  {
   "cell_type": "code",
   "execution_count": 14,
   "id": "0f94c00d-1112-4ffb-9b21-9b8358ce3297",
   "metadata": {},
   "outputs": [
    {
     "data": {
      "text/plain": [
       "Fertilizer Name\n",
       "Urea        44\n",
       "DAP         38\n",
       "28-28       36\n",
       "20-20       30\n",
       "14-35-14    29\n",
       "17-17-17    18\n",
       "10-26-26    10\n",
       "Name: count, dtype: int64"
      ]
     },
     "execution_count": 14,
     "metadata": {},
     "output_type": "execute_result"
    }
   ],
   "source": [
    "data[\"Fertilizer Name\"].value_counts()"
   ]
  },
  {
   "cell_type": "code",
   "execution_count": 15,
   "id": "63e27626-8f83-4177-8d09-2d0aa04877d7",
   "metadata": {},
   "outputs": [
    {
     "data": {
      "image/png": "[encoded data removed]",
      "text/plain": [
       "<Figure size 640x480 with 1 Axes>"
      ]
     },
     "metadata": {},
     "output_type": "display_data"
    }
   ],
   "source": [
    "fig,ax=plt.subplots()\n",
    "ax.pie(data['Fertilizer Name'].value_counts(),labels=list(data['Fertilizer Name'].unique()),radius=2,autopct=\"%1.2f%%\",shadow=True)\n",
    "plt.show()"
   ]
  },
  {
   "cell_type": "code",
   "execution_count": 16,
   "id": "cef22282-23c9-4be5-b27e-dde6b623b6da",
   "metadata": {
    "scrolled": true
   },
   "outputs": [
    {
     "data": {
      "image/png": "[encoded data removed]",
      "text/plain": [
       "<Figure size 1300x1300 with 2 Axes>"
      ]
     },
     "metadata": {},
     "output_type": "display_data"
    }
   ],
   "source": [
    "plt.figure(figsize=(13,13))\n",
    "sns.heatmap(data[data.columns.difference([\"Soil Type\",\"Crop Type\",\"Fertilizer Name\"])].corr(),center=0,annot=True)\n",
    "plt.show()\n",
    "\n"
   ]
  },
  {
   "cell_type": "code",
   "execution_count": null,
   "id": "03695ac9-0bbf-46d2-bb66-6265fd62f136",
   "metadata": {},
   "outputs": [],
   "source": []
  },
  {
   "cell_type": "code",
   "execution_count": 18,
   "id": "b3eb932a-a84e-43d8-bd15-5ccbf36889de",
   "metadata": {},
   "outputs": [
    {
     "name": "stdout",
     "output_type": "stream",
     "text": [
      "Shape of x: (205, 6)\n",
      "Shape of y: (205,)\n"
     ]
    }
   ],
   "source": [
    "#PREPROCESSING\n",
    "\n",
    "y = data['Fertilizer Name']\n",
    "x = data[['Temparature','Humidity ','Moisture', 'Nitrogen', 'Potassium','Phosphorous']]  \n",
    "print(\"Shape of x:\", x.shape)\n",
    "print(\"Shape of y:\", y.shape)"
   ]
  },
  {
   "cell_type": "code",
   "execution_count": 19,
   "id": "348c87df-5233-4f77-a720-0a2ffdd0dafd",
   "metadata": {},
   "outputs": [
    {
     "name": "stdout",
     "output_type": "stream",
     "text": [
      "The Shape of x train: (143, 6)\n",
      "The Shape of x test: (62, 6)\n",
      "The Shape of y train: (143,)\n",
      "The Shape of y test (62,)\n"
     ]
    }
   ],
   "source": [
    "#Lets create Training and Testing Sets for validation of Results\n",
    "from sklearn.model_selection import train_test_split\n",
    "x_train,x_test,y_train,y_test=train_test_split(x,y, test_size=0.3, random_state=10) # 80% Data will be alotted into trainins set & remaining 20% will be sent into testing set\n",
    "print(\"The Shape of x train:\", x_train.shape)\n",
    "print(\"The Shape of x test:\",x_test.shape)\n",
    "print(\"The Shape of y train:\",y_train.shape)\n",
    "print(\"The Shape of y test\",y_test.shape)\n",
    "\n",
    "\n"
   ]
  },
  {
   "cell_type": "code",
   "execution_count": 20,
   "id": "d0237fae-e719-470a-8520-9ee7508f3cc1",
   "metadata": {},
   "outputs": [],
   "source": [
    "from sklearn.linear_model import LogisticRegression  # Importing LogisticRegression from SKlearn to make our predective model\n",
    "\n",
    "\n",
    "model = LogisticRegression(solver = 'liblinear') # Storing our Algorithm in varriable name model\n",
    "model.fit(x_train, y_train) # Our model hase been trained from the data stored into training data set, Our model is fully trained now , further function used to predection\n",
    "y_pred = model.predict(x_test) #  we predict our model for x_test data set and further stored it into y_pred variable\n",
    "     "
   ]
  },
  {
   "cell_type": "code",
   "execution_count": 21,
   "id": "5767dd52-9981-4a8e-a195-9f21b2e42f33",
   "metadata": {},
   "outputs": [
    {
     "name": "stdout",
     "output_type": "stream",
     "text": [
      "              precision    recall  f1-score   support\n",
      "\n",
      "    10-26-26       1.00      1.00      1.00         4\n",
      "    14-35-14       1.00      1.00      1.00        10\n",
      "    17-17-17       1.00      1.00      1.00         4\n",
      "       20-20       1.00      1.00      1.00        12\n",
      "       28-28       1.00      1.00      1.00        10\n",
      "         DAP       1.00      1.00      1.00         8\n",
      "        Urea       1.00      1.00      1.00        14\n",
      "\n",
      "    accuracy                           1.00        62\n",
      "   macro avg       1.00      1.00      1.00        62\n",
      "weighted avg       1.00      1.00      1.00        62\n",
      "\n"
     ]
    }
   ],
   "source": [
    "from sklearn.metrics import classification_report\n",
    "cr= classification_report(y_test, y_pred)\n",
    "print(cr)"
   ]
  },
  {
   "cell_type": "code",
   "execution_count": 22,
   "id": "34ec65e7-ad17-4555-b9d3-70a4902455c7",
   "metadata": {},
   "outputs": [
    {
     "data": {
      "text/html": [
       "<div>\n",
       "<style scoped>\n",
       "    .dataframe tbody tr th:only-of-type {\n",
       "        vertical-align: middle;\n",
       "    }\n",
       "\n",
       "    .dataframe tbody tr th {\n",
       "        vertical-align: top;\n",
       "    }\n",
       "\n",
       "    .dataframe thead th {\n",
       "        text-align: right;\n",
       "    }\n",
       "</style>\n",
       "<table border=\"1\" class=\"dataframe\">\n",
       "  <thead>\n",
       "    <tr style=\"text-align: right;\">\n",
       "      <th></th>\n",
       "      <th>Temparature</th>\n",
       "      <th>Humidity</th>\n",
       "      <th>Moisture</th>\n",
       "      <th>Soil Type</th>\n",
       "      <th>Crop Type</th>\n",
       "      <th>Nitrogen</th>\n",
       "      <th>Potassium</th>\n",
       "      <th>Phosphorous</th>\n",
       "      <th>Fertilizer Name</th>\n",
       "    </tr>\n",
       "  </thead>\n",
       "  <tbody>\n",
       "    <tr>\n",
       "      <th>0</th>\n",
       "      <td>26</td>\n",
       "      <td>52</td>\n",
       "      <td>38</td>\n",
       "      <td>Sandy</td>\n",
       "      <td>Maize</td>\n",
       "      <td>37</td>\n",
       "      <td>0</td>\n",
       "      <td>0</td>\n",
       "      <td>Urea</td>\n",
       "    </tr>\n",
       "    <tr>\n",
       "      <th>1</th>\n",
       "      <td>29</td>\n",
       "      <td>52</td>\n",
       "      <td>45</td>\n",
       "      <td>Loamy</td>\n",
       "      <td>Sugarcane</td>\n",
       "      <td>12</td>\n",
       "      <td>0</td>\n",
       "      <td>36</td>\n",
       "      <td>DAP</td>\n",
       "    </tr>\n",
       "    <tr>\n",
       "      <th>2</th>\n",
       "      <td>34</td>\n",
       "      <td>65</td>\n",
       "      <td>62</td>\n",
       "      <td>Black</td>\n",
       "      <td>Cotton</td>\n",
       "      <td>7</td>\n",
       "      <td>9</td>\n",
       "      <td>30</td>\n",
       "      <td>14-35-14</td>\n",
       "    </tr>\n",
       "    <tr>\n",
       "      <th>3</th>\n",
       "      <td>32</td>\n",
       "      <td>62</td>\n",
       "      <td>34</td>\n",
       "      <td>Red</td>\n",
       "      <td>Tobacco</td>\n",
       "      <td>22</td>\n",
       "      <td>0</td>\n",
       "      <td>20</td>\n",
       "      <td>28-28</td>\n",
       "    </tr>\n",
       "    <tr>\n",
       "      <th>4</th>\n",
       "      <td>28</td>\n",
       "      <td>54</td>\n",
       "      <td>46</td>\n",
       "      <td>Clayey</td>\n",
       "      <td>Paddy</td>\n",
       "      <td>35</td>\n",
       "      <td>0</td>\n",
       "      <td>0</td>\n",
       "      <td>Urea</td>\n",
       "    </tr>\n",
       "  </tbody>\n",
       "</table>\n",
       "</div>"
      ],
      "text/plain": [
       "   Temparature  Humidity   Moisture Soil Type  Crop Type  Nitrogen  Potassium  \\\n",
       "0           26         52        38     Sandy      Maize        37          0   \n",
       "1           29         52        45     Loamy  Sugarcane        12          0   \n",
       "2           34         65        62     Black     Cotton         7          9   \n",
       "3           32         62        34       Red    Tobacco        22          0   \n",
       "4           28         54        46    Clayey      Paddy        35          0   \n",
       "\n",
       "   Phosphorous Fertilizer Name  \n",
       "0            0            Urea  \n",
       "1           36             DAP  \n",
       "2           30        14-35-14  \n",
       "3           20           28-28  \n",
       "4            0            Urea  "
      ]
     },
     "execution_count": 22,
     "metadata": {},
     "output_type": "execute_result"
    }
   ],
   "source": [
    "data.head()"
   ]
  },
  {
   "cell_type": "code",
   "execution_count": 23,
   "id": "ce55fd46-d83a-4562-98d5-3363a2f1a716",
   "metadata": {},
   "outputs": [
    {
     "name": "stdout",
     "output_type": "stream",
     "text": [
      "Decision Tree Accuracy: 0.9838709677419355\n"
     ]
    }
   ],
   "source": [
    "from sklearn.tree import DecisionTreeClassifier\n",
    "\n",
    "# Initialize the model\n",
    "dt_model = DecisionTreeClassifier(random_state=0)\n",
    "\n",
    "# Train the model\n",
    "dt_model.fit(x_train, y_train)\n",
    "\n",
    "# Make predictions\n",
    "dt_y_pred = dt_model.predict(x_test)\n",
    "\n",
    "# Evaluate the model\n",
    "dt_accuracy = dt_model.score(x_test, y_test)\n",
    "print(f'Decision Tree Accuracy: {dt_accuracy}')"
   ]
  },
  {
   "cell_type": "code",
   "execution_count": 24,
   "id": "37b97218-c1e7-4db7-83a2-519d5f802a87",
   "metadata": {},
   "outputs": [
    {
     "name": "stdout",
     "output_type": "stream",
     "text": [
      "Gradient Boosting Accuracy: 0.9838709677419355\n"
     ]
    }
   ],
   "source": [
    "from sklearn.ensemble import GradientBoostingClassifier\n",
    "\n",
    "# Initialize the model\n",
    "gb_model = GradientBoostingClassifier(random_state=0)\n",
    "\n",
    "# Train the model\n",
    "gb_model.fit(x_train, y_train)\n",
    "\n",
    "# Make predictions\n",
    "gb_y_pred = gb_model.predict(x_test)\n",
    "\n",
    "# Evaluate the model\n",
    "gb_accuracy = gb_model.score(x_test, y_test)\n",
    "print(f'Gradient Boosting Accuracy: {gb_accuracy}')"
   ]
  },
  {
   "cell_type": "code",
   "execution_count": 25,
   "id": "ad43eb3c-10fe-42ed-8471-46ce372236f7",
   "metadata": {},
   "outputs": [
    {
     "name": "stdout",
     "output_type": "stream",
     "text": [
      "SVM Model Accuracy: 0.9838709677419355\n"
     ]
    }
   ],
   "source": [
    "from sklearn.svm import SVC\n",
    "from sklearn.metrics import accuracy_score\n",
    "\n",
    "# Initialize the SVM model\n",
    "svm_model = SVC(kernel='linear', random_state=10)  # You can choose other kernels like 'rbf', 'poly', etc.\n",
    "\n",
    "# Train the model\n",
    "svm_model.fit(x_train, y_train)\n",
    "\n",
    "# Make predictions\n",
    "svm_y_pred = svm_model.predict(x_test)\n",
    "\n",
    "# Evaluate the model\n",
    "svm_accuracy = accuracy_score(y_test, svm_y_pred)\n",
    "print(f'SVM Model Accuracy: {svm_accuracy}')\n"
   ]
  },
  {
   "cell_type": "code",
   "execution_count": 26,
   "id": "7035f18d-970b-46db-a296-b9fd280c132b",
   "metadata": {},
   "outputs": [
    {
     "name": "stdout",
     "output_type": "stream",
     "text": [
      "KNN Model Accuracy: 0.967741935483871\n"
     ]
    }
   ],
   "source": [
    "from sklearn.neighbors import KNeighborsClassifier\n",
    "\n",
    "# Initialize the KNN model with a chosen number of neighbors (e.g., k=5)\n",
    "knn_model = KNeighborsClassifier(n_neighbors=5)\n",
    "\n",
    "# Train the model\n",
    "knn_model.fit(x_train, y_train)\n",
    "\n",
    "# Make predictions\n",
    "knn_y_pred = knn_model.predict(x_test)\n",
    "\n",
    "# Evaluate the model\n",
    "knn_accuracy = knn_model.score(x_test, y_test)\n",
    "print(f'KNN Model Accuracy: {knn_accuracy}')\n"
   ]
  },
  {
   "cell_type": "code",
   "execution_count": 27,
   "id": "643c3c90-fa70-44ba-9ec2-8f70ac0df399",
   "metadata": {},
   "outputs": [
    {
     "name": "stdout",
     "output_type": "stream",
     "text": [
      "Hybrid Ensemble Model Accuracy: 0.9838709677419355\n",
      "KNN Accuracy: 0.967741935483871\n",
      "SVM Accuracy: 0.9354838709677419\n",
      "Decision Tree Accuracy: 0.9838709677419355\n",
      "Gradient Boosting Accuracy: 0.9838709677419355\n"
     ]
    }
   ],
   "source": [
    "from sklearn.ensemble import VotingClassifier\n",
    "from sklearn.neighbors import KNeighborsClassifier\n",
    "from sklearn.svm import SVC\n",
    "from sklearn.tree import DecisionTreeClassifier\n",
    "from sklearn.ensemble import GradientBoostingClassifier\n",
    "\n",
    "# Initialize the models\n",
    "knn_model = KNeighborsClassifier(n_neighbors=5)\n",
    "svm_model = SVC(probability=True, random_state=10)  # Set probability=True for soft voting\n",
    "dt_model = DecisionTreeClassifier(random_state=10)\n",
    "gb_model = GradientBoostingClassifier(random_state=10)\n",
    "\n",
    "# Train the models (assuming x_train, y_train are defined)\n",
    "knn_model.fit(x_train, y_train)\n",
    "svm_model.fit(x_train, y_train)\n",
    "dt_model.fit(x_train, y_train)\n",
    "gb_model.fit(x_train, y_train)\n",
    "\n",
    "# Create an ensemble hybrid model with VotingClassifier\n",
    "hybrid_model = VotingClassifier(\n",
    "    estimators=[\n",
    "        ('knn', knn_model),\n",
    "        ('svm', svm_model),\n",
    "        ('decision_tree', dt_model),\n",
    "        ('gradient_boosting', gb_model)\n",
    "    ],\n",
    "    voting='soft'  # Use 'soft' voting for probability-based predictions\n",
    ")\n",
    "\n",
    "# Fit the ensemble model on the training data\n",
    "hybrid_model.fit(x_train, y_train)\n",
    "\n",
    "# Evaluate the ensemble model on the test data\n",
    "hybrid_accuracy = hybrid_model.score(x_test, y_test)\n",
    "print(f'Hybrid Ensemble Model Accuracy: {hybrid_accuracy}')\n",
    "\n",
    "# Optional: Check individual model accuracies\n",
    "models = ['KNN', 'SVM', 'Decision Tree', 'Gradient Boosting']\n",
    "accuracies = [model.score(x_test, y_test) for model in [knn_model, svm_model, dt_model, gb_model]]\n",
    "\n",
    "for m, acc in zip(models, accuracies):\n",
    "    print(f'{m} Accuracy: {acc}')\n"
   ]
  },
  {
   "cell_type": "code",
   "execution_count": 41,
   "id": "94983e1e-0bce-48c7-97cf-edb4a58b3e2e",
   "metadata": {},
   "outputs": [
    {
     "name": "stdout",
     "output_type": "stream",
     "text": [
      "The suggested fertilizer for the given conditions is: ['20-20']\n"
     ]
    }
   ],
   "source": [
    "# Example input for prediction (modify values as needed)\n",
    "input_data = np.array([[15, 0, 24, 5, 1, 11 ]])\n",
    "\n",
    "# Make prediction using the hybrid model\n",
    "prediction = hybrid_model.predict(input_data)\n",
    "\n",
    "# Print the suggested fertilizer for the given conditions\n",
    "print(\"The suggested fertilizer for the given conditions is:\", prediction)"
   ]
  },
  {
   "cell_type": "code",
   "execution_count": 64,
   "id": "29a0a066-ba0f-4903-864e-85710f74b2da",
   "metadata": {},
   "outputs": [],
   "source": [
    "import pickle\n",
    "\n",
    "# Assuming `hybrid_model` is trained and ready for saving\n",
    "with open('hybrid_model_fertilizer.pkl', 'wb') as file:\n",
    "    pickle.dump(hybrid_model, file)\n"
   ]
  },
  {
   "cell_type": "code",
   "execution_count": 66,
   "id": "d8eda8a1-cf4c-4262-bc24-ae859e69c356",
   "metadata": {},
   "outputs": [
    {
     "name": "stdout",
     "output_type": "stream",
     "text": [
      "The suggested fertilizer for the given conditions is: ['20-20']\n"
     ]
    }
   ],
   "source": [
    "# Load the model\n",
    "with open('hybrid_model_fertilizer.pkl', 'rb') as file:\n",
    "    loaded_hybrid_model = pickle.load(file)\n",
    "\n",
    "# Example input for prediction\n",
    "import numpy as np\n",
    "input_data = np.array([[15, 0, 24, 5, 1, 11]])\n",
    "\n",
    "# Make prediction using the loaded model\n",
    "prediction = loaded_hybrid_model.predict(input_data)\n",
    "\n",
    "# Print the suggested fertilizer for the given conditions\n",
    "print(\"The suggested fertilizer for the given conditions is:\", prediction)\n"
   ]
  },
  {
   "cell_type": "code",
   "execution_count": null,
   "id": "e915661b-6792-4dbe-8378-9f4e9499ae47",
   "metadata": {},
   "outputs": [],
   "source": []
  },
  {
   "cell_type": "code",
   "execution_count": null,
   "id": "72dd2069-b5e1-4d02-bc69-d533d3fce8de",
   "metadata": {},
   "outputs": [],
   "source": []
  }
 ],
 "metadata": {
  "kernelspec": {
   "display_name": "Python 3 (ipykernel)",
   "language": "python",
   "name": "python3"
  },
  "language_info": {
   "codemirror_mode": {
    "name": "ipython",
    "version": 3
   },
   "file_extension": ".py",
   "mimetype": "text/x-python",
   "name": "python",
   "nbconvert_exporter": "python",
   "pygments_lexer": "ipython3",
   "version": "3.12.4"
  }
 },
 "nbformat": 4,
 "nbformat_minor": 5
}
